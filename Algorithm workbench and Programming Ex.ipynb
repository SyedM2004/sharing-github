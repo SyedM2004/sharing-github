{
 "cells": [
  {
   "cell_type": "markdown",
   "id": "bff6ecc5",
   "metadata": {},
   "source": [
    "# Algorithm Workbench "
   ]
  },
  {
   "cell_type": "code",
   "execution_count": 1,
   "id": "28340069",
   "metadata": {},
   "outputs": [
    {
     "name": "stdout",
     "output_type": "stream",
     "text": [
      "Enter your height: 6'8\n"
     ]
    },
    {
     "ename": "ValueError",
     "evalue": "invalid literal for int() with base 10: \"6'8\"",
     "output_type": "error",
     "traceback": [
      "\u001b[1;31m---------------------------------------------------------------------------\u001b[0m",
      "\u001b[1;31mValueError\u001b[0m                                Traceback (most recent call last)",
      "Cell \u001b[1;32mIn[1], line 1\u001b[0m\n\u001b[1;32m----> 1\u001b[0m height \u001b[38;5;241m=\u001b[39m \u001b[38;5;28mint\u001b[39m(\u001b[38;5;28minput\u001b[39m(\u001b[38;5;124m'\u001b[39m\u001b[38;5;124mEnter your height: \u001b[39m\u001b[38;5;124m'\u001b[39m))\n",
      "\u001b[1;31mValueError\u001b[0m: invalid literal for int() with base 10: \"6'8\""
     ]
    }
   ],
   "source": [
    "height = int(input('Enter your height: '))"
   ]
  },
  {
   "cell_type": "markdown",
   "id": "67fc4a3e",
   "metadata": {},
   "source": [
    "# Programming exercise Problem 1"
   ]
  },
  {
   "cell_type": "code",
   "execution_count": 2,
   "id": "1fbaee23",
   "metadata": {},
   "outputs": [
    {
     "ename": "SyntaxError",
     "evalue": "invalid syntax (1239287188.py, line 3)",
     "output_type": "error",
     "traceback": [
      "\u001b[1;36m  Cell \u001b[1;32mIn[2], line 3\u001b[1;36m\u001b[0m\n\u001b[1;33m    Phone Number= '123-456-7890'\u001b[0m\n\u001b[1;37m          ^\u001b[0m\n\u001b[1;31mSyntaxError\u001b[0m\u001b[1;31m:\u001b[0m invalid syntax\n"
     ]
    }
   ],
   "source": [
    "name= 'Murtaza'\n",
    "Address= 'Your address'\n",
    "Phone Number= '123-456-7890'\n",
    "College Major= 'Computer Science'"
   ]
  },
  {
   "cell_type": "code",
   "execution_count": 3,
   "id": "364f241b",
   "metadata": {},
   "outputs": [
    {
     "ename": "SyntaxError",
     "evalue": "cannot assign to expression here. Maybe you meant '==' instead of '='? (1850709888.py, line 1)",
     "output_type": "error",
     "traceback": [
      "\u001b[1;36m  Cell \u001b[1;32mIn[3], line 1\u001b[1;36m\u001b[0m\n\u001b[1;33m    print('/nname=' , name) // name = Murtaza\u001b[0m\n\u001b[1;37m    ^\u001b[0m\n\u001b[1;31mSyntaxError\u001b[0m\u001b[1;31m:\u001b[0m cannot assign to expression here. Maybe you meant '==' instead of '='?\n"
     ]
    }
   ],
   "source": [
    "print('/nname=' , name) // name = Murtaza\n",
    "print('Address=' , address)\n",
    "print('Phone Number=' , phone number)\n",
    "print('College Major=' , college major, end='/n/n')"
   ]
  },
  {
   "cell_type": "code",
   "execution_count": 4,
   "id": "0e33147d",
   "metadata": {},
   "outputs": [
    {
     "ename": "SyntaxError",
     "evalue": "cannot assign to expression here. Maybe you meant '==' instead of '='? (805145330.py, line 1)",
     "output_type": "error",
     "traceback": [
      "\u001b[1;36m  Cell \u001b[1;32mIn[4], line 1\u001b[1;36m\u001b[0m\n\u001b[1;33m    print('/nname=' , name) // name = Murtaza\u001b[0m\n\u001b[1;37m    ^\u001b[0m\n\u001b[1;31mSyntaxError\u001b[0m\u001b[1;31m:\u001b[0m cannot assign to expression here. Maybe you meant '==' instead of '='?\n"
     ]
    }
   ],
   "source": [
    "print('/nname=' , name) // name = Murtaza\n",
    "print('Address=' , address) // address = Your Address\n",
    "print('Phone Number=' , phone number) // = 123-456-7890\n",
    "print('College Major=' , college major, end='/n/n') // college major = Computer Science"
   ]
  },
  {
   "cell_type": "code",
   "execution_count": 5,
   "id": "de374e60",
   "metadata": {},
   "outputs": [
    {
     "ename": "SyntaxError",
     "evalue": "invalid syntax (2031709212.py, line 3)",
     "output_type": "error",
     "traceback": [
      "\u001b[1;36m  Cell \u001b[1;32mIn[5], line 3\u001b[1;36m\u001b[0m\n\u001b[1;33m    Phone Number = '123-456-7890'\u001b[0m\n\u001b[1;37m          ^\u001b[0m\n\u001b[1;31mSyntaxError\u001b[0m\u001b[1;31m:\u001b[0m invalid syntax\n"
     ]
    }
   ],
   "source": [
    "name = 'Murtaza'\n",
    "Address = 'Your address'\n",
    "Phone Number = '123-456-7890'\n",
    "College Major = 'Computer Science'"
   ]
  },
  {
   "cell_type": "code",
   "execution_count": 6,
   "id": "ae54db32",
   "metadata": {},
   "outputs": [
    {
     "ename": "SyntaxError",
     "evalue": "invalid syntax (3049800004.py, line 3)",
     "output_type": "error",
     "traceback": [
      "\u001b[1;36m  Cell \u001b[1;32mIn[6], line 3\u001b[1;36m\u001b[0m\n\u001b[1;33m    Phone Number= '123 456 7890'\u001b[0m\n\u001b[1;37m          ^\u001b[0m\n\u001b[1;31mSyntaxError\u001b[0m\u001b[1;31m:\u001b[0m invalid syntax\n"
     ]
    }
   ],
   "source": [
    "name= 'Murtaza'\n",
    "Address= 'Your address'\n",
    "Phone Number= '123 456 7890'\n",
    "College Major= 'Computer Science'"
   ]
  },
  {
   "cell_type": "code",
   "execution_count": 7,
   "id": "810dcd29",
   "metadata": {},
   "outputs": [
    {
     "ename": "SyntaxError",
     "evalue": "invalid syntax (3176314149.py, line 3)",
     "output_type": "error",
     "traceback": [
      "\u001b[1;36m  Cell \u001b[1;32mIn[7], line 3\u001b[1;36m\u001b[0m\n\u001b[1;33m    Phone Number = '123 456 7890'\u001b[0m\n\u001b[1;37m          ^\u001b[0m\n\u001b[1;31mSyntaxError\u001b[0m\u001b[1;31m:\u001b[0m invalid syntax\n"
     ]
    }
   ],
   "source": [
    "name = 'Murtaza'\n",
    "Address = 'Your address'\n",
    "Phone Number = '123 456 7890'\n",
    "College Major = 'Computer Science'"
   ]
  },
  {
   "cell_type": "code",
   "execution_count": 8,
   "id": "53aca90b",
   "metadata": {},
   "outputs": [
    {
     "ename": "SyntaxError",
     "evalue": "invalid syntax (1379587686.py, line 3)",
     "output_type": "error",
     "traceback": [
      "\u001b[1;36m  Cell \u001b[1;32mIn[8], line 3\u001b[1;36m\u001b[0m\n\u001b[1;33m    Phone Number = '1234567890'\u001b[0m\n\u001b[1;37m          ^\u001b[0m\n\u001b[1;31mSyntaxError\u001b[0m\u001b[1;31m:\u001b[0m invalid syntax\n"
     ]
    }
   ],
   "source": [
    "name = 'Murtaza'\n",
    "Address = 'Your address'\n",
    "Phone Number = '1234567890'\n",
    "College Major = 'Computer Science'"
   ]
  },
  {
   "cell_type": "code",
   "execution_count": 9,
   "id": "e63d5509",
   "metadata": {},
   "outputs": [
    {
     "ename": "SyntaxError",
     "evalue": "invalid syntax (344081441.py, line 3)",
     "output_type": "error",
     "traceback": [
      "\u001b[1;36m  Cell \u001b[1;32mIn[9], line 3\u001b[1;36m\u001b[0m\n\u001b[1;33m    Phone Number = 'Phone Number'\u001b[0m\n\u001b[1;37m          ^\u001b[0m\n\u001b[1;31mSyntaxError\u001b[0m\u001b[1;31m:\u001b[0m invalid syntax\n"
     ]
    }
   ],
   "source": [
    "name = 'Murtaza'\n",
    "Address = 'Your address'\n",
    "Phone Number = 'Phone Number'\n",
    "College Major = 'Computer Science'"
   ]
  },
  {
   "cell_type": "code",
   "execution_count": 10,
   "id": "d16174d0",
   "metadata": {},
   "outputs": [
    {
     "name": "stdout",
     "output_type": "stream",
     "text": [
      "i realized my mistake haha, its supposed to have an underscore at phone number\n"
     ]
    }
   ],
   "source": [
    "print('i realized my mistake haha, its supposed to have an underscore at phone number')"
   ]
  },
  {
   "cell_type": "code",
   "execution_count": 11,
   "id": "0887cff4",
   "metadata": {},
   "outputs": [
    {
     "ename": "NameError",
     "evalue": "name 'Print' is not defined",
     "output_type": "error",
     "traceback": [
      "\u001b[1;31m---------------------------------------------------------------------------\u001b[0m",
      "\u001b[1;31mNameError\u001b[0m                                 Traceback (most recent call last)",
      "Cell \u001b[1;32mIn[11], line 1\u001b[0m\n\u001b[1;32m----> 1\u001b[0m Print(\u001b[38;5;124m'\u001b[39m\u001b[38;5;124mattempt 2\u001b[39m\u001b[38;5;124m'\u001b[39m)\n",
      "\u001b[1;31mNameError\u001b[0m: name 'Print' is not defined"
     ]
    }
   ],
   "source": [
    "Print('attempt 2')"
   ]
  },
  {
   "cell_type": "code",
   "execution_count": 12,
   "id": "e5816197",
   "metadata": {},
   "outputs": [
    {
     "name": "stdout",
     "output_type": "stream",
     "text": [
      "attempt 2\n"
     ]
    }
   ],
   "source": [
    "print('attempt 2')"
   ]
  },
  {
   "cell_type": "code",
   "execution_count": 13,
   "id": "df0551c8",
   "metadata": {},
   "outputs": [
    {
     "ename": "SyntaxError",
     "evalue": "invalid syntax (3019851357.py, line 4)",
     "output_type": "error",
     "traceback": [
      "\u001b[1;36m  Cell \u001b[1;32mIn[13], line 4\u001b[1;36m\u001b[0m\n\u001b[1;33m    College Major = 'Computer Science'\u001b[0m\n\u001b[1;37m            ^\u001b[0m\n\u001b[1;31mSyntaxError\u001b[0m\u001b[1;31m:\u001b[0m invalid syntax\n"
     ]
    }
   ],
   "source": [
    "name = 'Murtaza'\n",
    "Address = 'Your address'\n",
    "Phone_Number = 'Phone Number'\n",
    "College Major = 'Computer Science'"
   ]
  },
  {
   "cell_type": "code",
   "execution_count": 14,
   "id": "54bb8301",
   "metadata": {},
   "outputs": [
    {
     "ename": "SyntaxError",
     "evalue": "invalid syntax (1527882973.py, line 3)",
     "output_type": "error",
     "traceback": [
      "\u001b[1;36m  Cell \u001b[1;32mIn[14], line 3\u001b[1;36m\u001b[0m\n\u001b[1;33m    Phone Number = 'Phone Number'\u001b[0m\n\u001b[1;37m          ^\u001b[0m\n\u001b[1;31mSyntaxError\u001b[0m\u001b[1;31m:\u001b[0m invalid syntax\n"
     ]
    }
   ],
   "source": [
    "name = 'Murtaza'\n",
    "Address = 'Your address'\n",
    "Phone Number = 'Phone Number'\n",
    "College_Major = 'Computer Science'"
   ]
  },
  {
   "cell_type": "code",
   "execution_count": 15,
   "id": "9d9bc54e",
   "metadata": {},
   "outputs": [],
   "source": [
    "name = 'Murtaza'\n",
    "Address = 'Your address'\n",
    "Phone_Number = 'Phone Number'\n",
    "College_Major = 'Computer Science'"
   ]
  },
  {
   "cell_type": "code",
   "execution_count": 16,
   "id": "c8709c31",
   "metadata": {},
   "outputs": [
    {
     "ename": "SyntaxError",
     "evalue": "cannot assign to expression here. Maybe you meant '==' instead of '='? (1850709888.py, line 1)",
     "output_type": "error",
     "traceback": [
      "\u001b[1;36m  Cell \u001b[1;32mIn[16], line 1\u001b[1;36m\u001b[0m\n\u001b[1;33m    print('/nname=' , name) // name = Murtaza\u001b[0m\n\u001b[1;37m    ^\u001b[0m\n\u001b[1;31mSyntaxError\u001b[0m\u001b[1;31m:\u001b[0m cannot assign to expression here. Maybe you meant '==' instead of '='?\n"
     ]
    }
   ],
   "source": [
    "print('/nname=' , name) // name = Murtaza\n",
    "print('Address=' , address)\n",
    "print('Phone Number=' , phone number)\n",
    "print('College Major=' , college major, end='/n/n')"
   ]
  },
  {
   "cell_type": "code",
   "execution_count": 17,
   "id": "e25d8c87",
   "metadata": {},
   "outputs": [
    {
     "ename": "SyntaxError",
     "evalue": "cannot assign to expression here. Maybe you meant '==' instead of '='? (3592779613.py, line 1)",
     "output_type": "error",
     "traceback": [
      "\u001b[1;36m  Cell \u001b[1;32mIn[17], line 1\u001b[1;36m\u001b[0m\n\u001b[1;33m    print('name=' , name) // name = Murtaza\u001b[0m\n\u001b[1;37m    ^\u001b[0m\n\u001b[1;31mSyntaxError\u001b[0m\u001b[1;31m:\u001b[0m cannot assign to expression here. Maybe you meant '==' instead of '='?\n"
     ]
    }
   ],
   "source": [
    "print('name=' , name) // name = Murtaza\n",
    "print('Address=' , address)\n",
    "print('Phone Number=' , phone number)\n",
    "print('College Major=' , college major, end='/n/n')"
   ]
  },
  {
   "cell_type": "code",
   "execution_count": 18,
   "id": "37a06098",
   "metadata": {},
   "outputs": [
    {
     "ename": "SyntaxError",
     "evalue": "cannot assign to expression here. Maybe you meant '==' instead of '='? (2647113517.py, line 1)",
     "output_type": "error",
     "traceback": [
      "\u001b[1;36m  Cell \u001b[1;32mIn[18], line 1\u001b[1;36m\u001b[0m\n\u001b[1;33m    print('/nname=' , name) // name = Murtaza\u001b[0m\n\u001b[1;37m    ^\u001b[0m\n\u001b[1;31mSyntaxError\u001b[0m\u001b[1;31m:\u001b[0m cannot assign to expression here. Maybe you meant '==' instead of '='?\n"
     ]
    }
   ],
   "source": [
    "print('/nname=' , name) // name = Murtaza\n",
    "print('Address=' , address)\n",
    "print('Phone_Number=' , phone number)\n",
    "print('College_Major=' , college major, end='/n/n')"
   ]
  },
  {
   "cell_type": "code",
   "execution_count": 19,
   "id": "06a11293",
   "metadata": {},
   "outputs": [
    {
     "ename": "SyntaxError",
     "evalue": "cannot assign to expression here. Maybe you meant '==' instead of '='? (1481956105.py, line 1)",
     "output_type": "error",
     "traceback": [
      "\u001b[1;36m  Cell \u001b[1;32mIn[19], line 1\u001b[1;36m\u001b[0m\n\u001b[1;33m    print('name=' , name) // name = Murtaza\u001b[0m\n\u001b[1;37m    ^\u001b[0m\n\u001b[1;31mSyntaxError\u001b[0m\u001b[1;31m:\u001b[0m cannot assign to expression here. Maybe you meant '==' instead of '='?\n"
     ]
    }
   ],
   "source": [
    "print('name=' , name) // name = Murtaza\n",
    "print('Address=' , address)\n",
    "print('Phone_Number=' , phone number)\n",
    "print('College_Major=' , college major, end='/n/n')"
   ]
  },
  {
   "cell_type": "code",
   "execution_count": 20,
   "id": "e67f1ba7",
   "metadata": {},
   "outputs": [
    {
     "ename": "SyntaxError",
     "evalue": "invalid syntax. Perhaps you forgot a comma? (3150204186.py, line 3)",
     "output_type": "error",
     "traceback": [
      "\u001b[1;36m  Cell \u001b[1;32mIn[20], line 3\u001b[1;36m\u001b[0m\n\u001b[1;33m    print('Phone_Number=' , phone number)\u001b[0m\n\u001b[1;37m                            ^\u001b[0m\n\u001b[1;31mSyntaxError\u001b[0m\u001b[1;31m:\u001b[0m invalid syntax. Perhaps you forgot a comma?\n"
     ]
    }
   ],
   "source": [
    "print('/nname=' , name)\n",
    "print('Address=' , address)\n",
    "print('Phone_Number=' , phone number)\n",
    "print('College_Major=' , college major, end='/n/n')"
   ]
  },
  {
   "cell_type": "code",
   "execution_count": 21,
   "id": "359e4a8a",
   "metadata": {},
   "outputs": [
    {
     "ename": "SyntaxError",
     "evalue": "cannot assign to expression here. Maybe you meant '==' instead of '='? (3841127744.py, line 1)",
     "output_type": "error",
     "traceback": [
      "\u001b[1;36m  Cell \u001b[1;32mIn[21], line 1\u001b[1;36m\u001b[0m\n\u001b[1;33m    print('/nname=' , name) // name = Murtaza\u001b[0m\n\u001b[1;37m    ^\u001b[0m\n\u001b[1;31mSyntaxError\u001b[0m\u001b[1;31m:\u001b[0m cannot assign to expression here. Maybe you meant '==' instead of '='?\n"
     ]
    }
   ],
   "source": [
    "print('/nname=' , name) // name = Murtaza\n",
    "print('Address=' , address)\n",
    "print('Phone_Number=' , phone_number)\n",
    "print('College_Major=' , college_major, end='/n/n')"
   ]
  },
  {
   "cell_type": "code",
   "execution_count": 22,
   "id": "37ccc20e",
   "metadata": {},
   "outputs": [
    {
     "name": "stdout",
     "output_type": "stream",
     "text": [
      "/nname= Murtaza\n"
     ]
    },
    {
     "ename": "NameError",
     "evalue": "name 'address' is not defined",
     "output_type": "error",
     "traceback": [
      "\u001b[1;31m---------------------------------------------------------------------------\u001b[0m",
      "\u001b[1;31mNameError\u001b[0m                                 Traceback (most recent call last)",
      "Cell \u001b[1;32mIn[22], line 2\u001b[0m\n\u001b[0;32m      1\u001b[0m \u001b[38;5;28mprint\u001b[39m(\u001b[38;5;124m'\u001b[39m\u001b[38;5;124m/nname=\u001b[39m\u001b[38;5;124m'\u001b[39m , name)\n\u001b[1;32m----> 2\u001b[0m \u001b[38;5;28mprint\u001b[39m(\u001b[38;5;124m'\u001b[39m\u001b[38;5;124mAddress=\u001b[39m\u001b[38;5;124m'\u001b[39m , address)\n\u001b[0;32m      3\u001b[0m \u001b[38;5;28mprint\u001b[39m(\u001b[38;5;124m'\u001b[39m\u001b[38;5;124mPhone_Number=\u001b[39m\u001b[38;5;124m'\u001b[39m , phone_number)\n\u001b[0;32m      4\u001b[0m \u001b[38;5;28mprint\u001b[39m(\u001b[38;5;124m'\u001b[39m\u001b[38;5;124mCollege_Major=\u001b[39m\u001b[38;5;124m'\u001b[39m , college_major, end\u001b[38;5;241m=\u001b[39m\u001b[38;5;124m'\u001b[39m\u001b[38;5;124m/n/n\u001b[39m\u001b[38;5;124m'\u001b[39m)\n",
      "\u001b[1;31mNameError\u001b[0m: name 'address' is not defined"
     ]
    }
   ],
   "source": [
    "print('/nname=' , name)\n",
    "print('Address=' , address)\n",
    "print('Phone_Number=' , phone_number)\n",
    "print('College_Major=' , college_major, end='/n/n')"
   ]
  },
  {
   "cell_type": "code",
   "execution_count": 23,
   "id": "cd0d295d",
   "metadata": {},
   "outputs": [
    {
     "ename": "SyntaxError",
     "evalue": "cannot assign to expression here. Maybe you meant '==' instead of '='? (2627257216.py, line 1)",
     "output_type": "error",
     "traceback": [
      "\u001b[1;36m  Cell \u001b[1;32mIn[23], line 1\u001b[1;36m\u001b[0m\n\u001b[1;33m    print('/nname=' , name) // name = Murtaza\u001b[0m\n\u001b[1;37m    ^\u001b[0m\n\u001b[1;31mSyntaxError\u001b[0m\u001b[1;31m:\u001b[0m cannot assign to expression here. Maybe you meant '==' instead of '='?\n"
     ]
    }
   ],
   "source": [
    "print('/nname=' , name) // name = Murtaza\n",
    "print('Address=' , Address)\n",
    "print('Phone_Number=' , phone_number)\n",
    "print('College_Major=' , college_major, end='/n/n')"
   ]
  },
  {
   "cell_type": "code",
   "execution_count": 24,
   "id": "70eff415",
   "metadata": {},
   "outputs": [
    {
     "name": "stdout",
     "output_type": "stream",
     "text": [
      "/nname= Murtaza\n",
      "Address= Your address\n"
     ]
    },
    {
     "ename": "NameError",
     "evalue": "name 'phone_number' is not defined",
     "output_type": "error",
     "traceback": [
      "\u001b[1;31m---------------------------------------------------------------------------\u001b[0m",
      "\u001b[1;31mNameError\u001b[0m                                 Traceback (most recent call last)",
      "Cell \u001b[1;32mIn[24], line 3\u001b[0m\n\u001b[0;32m      1\u001b[0m \u001b[38;5;28mprint\u001b[39m(\u001b[38;5;124m'\u001b[39m\u001b[38;5;124m/nname=\u001b[39m\u001b[38;5;124m'\u001b[39m , name)\n\u001b[0;32m      2\u001b[0m \u001b[38;5;28mprint\u001b[39m(\u001b[38;5;124m'\u001b[39m\u001b[38;5;124mAddress=\u001b[39m\u001b[38;5;124m'\u001b[39m , Address)\n\u001b[1;32m----> 3\u001b[0m \u001b[38;5;28mprint\u001b[39m(\u001b[38;5;124m'\u001b[39m\u001b[38;5;124mPhone_Number=\u001b[39m\u001b[38;5;124m'\u001b[39m , phone_number)\n\u001b[0;32m      4\u001b[0m \u001b[38;5;28mprint\u001b[39m(\u001b[38;5;124m'\u001b[39m\u001b[38;5;124mCollege_Major=\u001b[39m\u001b[38;5;124m'\u001b[39m , college_major, end\u001b[38;5;241m=\u001b[39m\u001b[38;5;124m'\u001b[39m\u001b[38;5;124m/n/n\u001b[39m\u001b[38;5;124m'\u001b[39m)\n",
      "\u001b[1;31mNameError\u001b[0m: name 'phone_number' is not defined"
     ]
    }
   ],
   "source": [
    "print('/nname=' , name)\n",
    "print('Address=' , Address)\n",
    "print('Phone_Number=' , phone_number)\n",
    "print('College_Major=' , college_major, end='/n/n')"
   ]
  },
  {
   "cell_type": "code",
   "execution_count": 25,
   "id": "85ebe197",
   "metadata": {},
   "outputs": [
    {
     "name": "stdout",
     "output_type": "stream",
     "text": [
      "/nname= Murtaza\n",
      "Address= Your address\n",
      "Phone_Number= Phone Number\n",
      "College_Major= Computer Science/n/n"
     ]
    }
   ],
   "source": [
    "print('/nname=' , name)\n",
    "print('Address=' , Address)\n",
    "print('Phone_Number=' , Phone_Number)\n",
    "print('College_Major=' , College_Major, end='/n/n')"
   ]
  },
  {
   "cell_type": "code",
   "execution_count": 26,
   "id": "710dcd0e",
   "metadata": {},
   "outputs": [
    {
     "name": "stdout",
     "output_type": "stream",
     "text": [
      "ok final attempt, i found that i do not read things properly haha\n"
     ]
    }
   ],
   "source": [
    "print('ok final attempt, i found that i do not read things properly haha')"
   ]
  },
  {
   "cell_type": "code",
   "execution_count": 27,
   "id": "0a7a7acd",
   "metadata": {},
   "outputs": [
    {
     "name": "stdout",
     "output_type": "stream",
     "text": [
      "name= Murtaza\n",
      "Address= Your address\n",
      "Phone_Number= Phone Number\n",
      "College_Major= Computer Science/n/n"
     ]
    }
   ],
   "source": [
    "print('name=' , name)\n",
    "print('Address=' , Address)\n",
    "print('Phone_Number=' , Phone_Number)\n",
    "print('College_Major=' , College_Major, end='/n/n')"
   ]
  },
  {
   "cell_type": "code",
   "execution_count": null,
   "id": "4516f1bd",
   "metadata": {},
   "outputs": [],
   "source": []
  }
 ],
 "metadata": {
  "kernelspec": {
   "display_name": "Python 3 (ipykernel)",
   "language": "python",
   "name": "python3"
  },
  "language_info": {
   "codemirror_mode": {
    "name": "ipython",
    "version": 3
   },
   "file_extension": ".py",
   "mimetype": "text/x-python",
   "name": "python",
   "nbconvert_exporter": "python",
   "pygments_lexer": "ipython3",
   "version": "3.11.5"
  }
 },
 "nbformat": 4,
 "nbformat_minor": 5
}
