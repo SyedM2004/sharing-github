{
 "cells": [
  {
   "cell_type": "markdown",
   "id": "1dadc251",
   "metadata": {},
   "source": [
    "# Chapter 1 exercises 1, 3, and 4 "
   ]
  },
  {
   "cell_type": "code",
   "execution_count": 5,
   "id": "aef3a0b1",
   "metadata": {},
   "outputs": [
    {
     "name": "stdout",
     "output_type": "stream",
     "text": [
      "Ex 1\n",
      "This is a test of Python Interpreter\n"
     ]
    }
   ],
   "source": [
    "print (\"Ex 1\")\n",
    "print(\"This is a test of Python Interpreter\")"
   ]
  },
  {
   "cell_type": "code",
   "execution_count": 6,
   "id": "15cff85a",
   "metadata": {},
   "outputs": [
    {
     "name": "stdout",
     "output_type": "stream",
     "text": [
      "I really hope this works out:, 10\n"
     ]
    }
   ],
   "source": [
    "print (\"I really hope this works out:, 10\")"
   ]
  },
  {
   "cell_type": "code",
   "execution_count": 7,
   "id": "78568439",
   "metadata": {},
   "outputs": [
    {
     "ename": "SyntaxError",
     "evalue": "unterminated string literal (detected at line 1) (1575450252.py, line 1)",
     "output_type": "error",
     "traceback": [
      "\u001b[1;36m  Cell \u001b[1;32mIn[7], line 1\u001b[1;36m\u001b[0m\n\u001b[1;33m    print (\"REEEEEEEEEEEEEEEEEEEEEEEEEEEEEEEEEEEEEEEEEEEEE:\", 10\")\u001b[0m\n\u001b[1;37m                                                                ^\u001b[0m\n\u001b[1;31mSyntaxError\u001b[0m\u001b[1;31m:\u001b[0m unterminated string literal (detected at line 1)\n"
     ]
    }
   ],
   "source": [
    "print (\"REEEEEEEEEEEEEEEEEEEEEEEEEEEEEEEEEEEEEEEEEEEEE:\", 10\")"
   ]
  },
  {
   "cell_type": "code",
   "execution_count": 8,
   "id": "02634392",
   "metadata": {},
   "outputs": [
    {
     "name": "stdout",
     "output_type": "stream",
     "text": [
      "that was me experimenting lol\n"
     ]
    }
   ],
   "source": [
    "print (\"that was me experimenting lol\")"
   ]
  },
  {
   "cell_type": "code",
   "execution_count": 9,
   "id": "e96f6944",
   "metadata": {},
   "outputs": [
    {
     "name": "stdout",
     "output_type": "stream",
     "text": [
      "ex 3\n"
     ]
    }
   ],
   "source": [
    "print ('ex 3')"
   ]
  },
  {
   "cell_type": "code",
   "execution_count": 10,
   "id": "2618dfcc",
   "metadata": {},
   "outputs": [
    {
     "name": "stdout",
     "output_type": "stream",
     "text": [
      "using the things I learned to translate binary to code, I will translate the following\n"
     ]
    }
   ],
   "source": [
    "print ('using the things I learned to translate binary to code, I will translate the following')"
   ]
  },
  {
   "cell_type": "code",
   "execution_count": 11,
   "id": "4cfd4d72",
   "metadata": {},
   "outputs": [
    {
     "data": {
      "text/plain": [
       "'0b1011'"
      ]
     },
     "execution_count": 11,
     "metadata": {},
     "output_type": "execute_result"
    }
   ],
   "source": [
    "bin(11)"
   ]
  },
  {
   "cell_type": "code",
   "execution_count": 12,
   "id": "3d53268e",
   "metadata": {},
   "outputs": [
    {
     "data": {
      "text/plain": [
       "'0b1000001'"
      ]
     },
     "execution_count": 12,
     "metadata": {},
     "output_type": "execute_result"
    }
   ],
   "source": [
    "bin(65)"
   ]
  },
  {
   "cell_type": "code",
   "execution_count": 13,
   "id": "b7339247",
   "metadata": {},
   "outputs": [
    {
     "data": {
      "text/plain": [
       "'0b1100100'"
      ]
     },
     "execution_count": 13,
     "metadata": {},
     "output_type": "execute_result"
    }
   ],
   "source": [
    "bin(100)"
   ]
  },
  {
   "cell_type": "code",
   "execution_count": 14,
   "id": "a96fdc02",
   "metadata": {},
   "outputs": [
    {
     "data": {
      "text/plain": [
       "'0b11111111'"
      ]
     },
     "execution_count": 14,
     "metadata": {},
     "output_type": "execute_result"
    }
   ],
   "source": [
    "bin(255)"
   ]
  },
  {
   "cell_type": "code",
   "execution_count": 15,
   "id": "b6ad4529",
   "metadata": {},
   "outputs": [
    {
     "name": "stdout",
     "output_type": "stream",
     "text": [
      "I used the python function of bin to convert the values into binary\n"
     ]
    }
   ],
   "source": [
    "print('I used the python function of bin to convert the values into binary')"
   ]
  },
  {
   "cell_type": "code",
   "execution_count": 16,
   "id": "60ad34f5",
   "metadata": {},
   "outputs": [
    {
     "name": "stdout",
     "output_type": "stream",
     "text": [
      "ex 4\n"
     ]
    }
   ],
   "source": [
    "print ('ex 4')"
   ]
  },
  {
   "cell_type": "code",
   "execution_count": 17,
   "id": "e8fcddb0",
   "metadata": {},
   "outputs": [
    {
     "name": "stdout",
     "output_type": "stream",
     "text": [
      "now I will convert the binary into decimal using the int function\n"
     ]
    }
   ],
   "source": [
    "print('now I will convert the binary into decimal using the int function')"
   ]
  },
  {
   "cell_type": "code",
   "execution_count": 18,
   "id": "0a9c6ec9",
   "metadata": {},
   "outputs": [
    {
     "data": {
      "text/plain": [
       "1101"
      ]
     },
     "execution_count": 18,
     "metadata": {},
     "output_type": "execute_result"
    }
   ],
   "source": [
    "int('1101')"
   ]
  },
  {
   "cell_type": "code",
   "execution_count": 19,
   "id": "a6e1074d",
   "metadata": {},
   "outputs": [
    {
     "data": {
      "text/plain": [
       "1101"
      ]
     },
     "execution_count": 19,
     "metadata": {},
     "output_type": "execute_result"
    }
   ],
   "source": [
    "int(1101)"
   ]
  },
  {
   "cell_type": "code",
   "execution_count": 20,
   "id": "b399b864",
   "metadata": {},
   "outputs": [
    {
     "ename": "SyntaxError",
     "evalue": "Missing parentheses in call to 'print'. Did you mean print(...)? (1192316983.py, line 1)",
     "output_type": "error",
     "traceback": [
      "\u001b[1;36m  Cell \u001b[1;32mIn[20], line 1\u001b[1;36m\u001b[0m\n\u001b[1;33m    print int(1101)\u001b[0m\n\u001b[1;37m    ^\u001b[0m\n\u001b[1;31mSyntaxError\u001b[0m\u001b[1;31m:\u001b[0m Missing parentheses in call to 'print'. Did you mean print(...)?\n"
     ]
    }
   ],
   "source": [
    "print int(1101)"
   ]
  },
  {
   "cell_type": "code",
   "execution_count": 21,
   "id": "d6844fdd",
   "metadata": {},
   "outputs": [
    {
     "data": {
      "text/plain": [
       "1101"
      ]
     },
     "execution_count": 21,
     "metadata": {},
     "output_type": "execute_result"
    }
   ],
   "source": [
    "int('1101')"
   ]
  },
  {
   "cell_type": "code",
   "execution_count": 22,
   "id": "540c60df",
   "metadata": {},
   "outputs": [
    {
     "name": "stdout",
     "output_type": "stream",
     "text": [
      "that wasnt supposed to do that\n"
     ]
    }
   ],
   "source": [
    "print('that wasnt supposed to do that')"
   ]
  },
  {
   "cell_type": "code",
   "execution_count": 23,
   "id": "a2c38a33",
   "metadata": {},
   "outputs": [
    {
     "ename": "NameError",
     "evalue": "name 'bin_a' is not defined",
     "output_type": "error",
     "traceback": [
      "\u001b[1;31m---------------------------------------------------------------------------\u001b[0m",
      "\u001b[1;31mNameError\u001b[0m                                 Traceback (most recent call last)",
      "Cell \u001b[1;32mIn[23], line 1\u001b[0m\n\u001b[1;32m----> 1\u001b[0m \u001b[38;5;28mprint\u001b[39m(bin_a)\n",
      "\u001b[1;31mNameError\u001b[0m: name 'bin_a' is not defined"
     ]
    }
   ],
   "source": [
    "print(bin_a)"
   ]
  },
  {
   "cell_type": "code",
   "execution_count": 26,
   "id": "d49b0c24",
   "metadata": {},
   "outputs": [
    {
     "data": {
      "text/plain": [
       "'0b10001001101'"
      ]
     },
     "execution_count": 26,
     "metadata": {},
     "output_type": "execute_result"
    }
   ],
   "source": [
    "bin(1101)"
   ]
  },
  {
   "cell_type": "code",
   "execution_count": 27,
   "id": "92715ed3",
   "metadata": {},
   "outputs": [
    {
     "data": {
      "text/plain": [
       "13"
      ]
     },
     "execution_count": 27,
     "metadata": {},
     "output_type": "execute_result"
    }
   ],
   "source": [
    "int(0b1101)"
   ]
  },
  {
   "cell_type": "code",
   "execution_count": 28,
   "id": "51daceff",
   "metadata": {},
   "outputs": [
    {
     "name": "stdout",
     "output_type": "stream",
     "text": [
      "a bit of trial and error but I finally got it. Basically you had to have 0b before the binary to convert it to decimal\n"
     ]
    }
   ],
   "source": [
    "print('a bit of trial and error but I finally got it. Basically you had to have 0b before the binary to convert it to decimal')"
   ]
  },
  {
   "cell_type": "code",
   "execution_count": 29,
   "id": "f76ef539",
   "metadata": {},
   "outputs": [
    {
     "data": {
      "text/plain": [
       "8"
      ]
     },
     "execution_count": 29,
     "metadata": {},
     "output_type": "execute_result"
    }
   ],
   "source": [
    "int(0b1000)"
   ]
  },
  {
   "cell_type": "code",
   "execution_count": 30,
   "id": "e3c0cb02",
   "metadata": {},
   "outputs": [
    {
     "data": {
      "text/plain": [
       "43"
      ]
     },
     "execution_count": 30,
     "metadata": {},
     "output_type": "execute_result"
    }
   ],
   "source": [
    "int(0b101011)"
   ]
  },
  {
   "cell_type": "code",
   "execution_count": 31,
   "id": "9ecf5068",
   "metadata": {},
   "outputs": [
    {
     "name": "stdout",
     "output_type": "stream",
     "text": [
      "Now all of the binary components have been converted to decimal\n"
     ]
    }
   ],
   "source": [
    "print('Now all of the binary components have been converted to decimal')"
   ]
  },
  {
   "cell_type": "code",
   "execution_count": null,
   "id": "f5c3d029",
   "metadata": {},
   "outputs": [],
   "source": []
  }
 ],
 "metadata": {
  "kernelspec": {
   "display_name": "Python 3 (ipykernel)",
   "language": "python",
   "name": "python3"
  },
  "language_info": {
   "codemirror_mode": {
    "name": "ipython",
    "version": 3
   },
   "file_extension": ".py",
   "mimetype": "text/x-python",
   "name": "python",
   "nbconvert_exporter": "python",
   "pygments_lexer": "ipython3",
   "version": "3.11.5"
  }
 },
 "nbformat": 4,
 "nbformat_minor": 5
}
