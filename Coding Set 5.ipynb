{
 "cells": [
  {
   "cell_type": "markdown",
   "id": "48da903a",
   "metadata": {},
   "source": [
    "# Algorithm Workbench Questions"
   ]
  },
  {
   "cell_type": "code",
   "execution_count": 1,
   "id": "d03da0ba",
   "metadata": {},
   "outputs": [
    {
     "ename": "SyntaxError",
     "evalue": "invalid syntax (3110289835.py, line 1)",
     "output_type": "error",
     "traceback": [
      "\u001b[1;36m  Cell \u001b[1;32mIn[1], line 1\u001b[1;36m\u001b[0m\n\u001b[1;33m    def times_ten(4)\u001b[0m\n\u001b[1;37m                  ^\u001b[0m\n\u001b[1;31mSyntaxError\u001b[0m\u001b[1;31m:\u001b[0m invalid syntax\n"
     ]
    }
   ],
   "source": [
    "def times_ten(4)"
   ]
  },
  {
   "cell_type": "code",
   "execution_count": 2,
   "id": "292af40c",
   "metadata": {},
   "outputs": [
    {
     "ename": "IndentationError",
     "evalue": "unexpected indent (650648805.py, line 3)",
     "output_type": "error",
     "traceback": [
      "\u001b[1;36m  Cell \u001b[1;32mIn[2], line 3\u001b[1;36m\u001b[0m\n\u001b[1;33m    print(product)\u001b[0m\n\u001b[1;37m    ^\u001b[0m\n\u001b[1;31mIndentationError\u001b[0m\u001b[1;31m:\u001b[0m unexpected indent\n"
     ]
    }
   ],
   "source": [
    "def times_ten(number) :\n",
    "    product = number * 10\n",
    "        print(product)"
   ]
  },
  {
   "cell_type": "code",
   "execution_count": 3,
   "id": "f5b5e813",
   "metadata": {},
   "outputs": [],
   "source": [
    "def times_ten(number) :\n",
    "    product = number * 10\n",
    "    print(product)"
   ]
  },
  {
   "cell_type": "code",
   "execution_count": 4,
   "id": "c8a193be",
   "metadata": {},
   "outputs": [
    {
     "name": "stdout",
     "output_type": "stream",
     "text": [
      "Number 1\n"
     ]
    }
   ],
   "source": [
    "print('Number 1')"
   ]
  },
  {
   "cell_type": "code",
   "execution_count": 5,
   "id": "8395d4a2",
   "metadata": {},
   "outputs": [
    {
     "ename": "SyntaxError",
     "evalue": "invalid syntax (531979175.py, line 1)",
     "output_type": "error",
     "traceback": [
      "\u001b[1;36m  Cell \u001b[1;32mIn[5], line 1\u001b[1;36m\u001b[0m\n\u001b[1;33m    def times_ten('number') :\u001b[0m\n\u001b[1;37m                  ^\u001b[0m\n\u001b[1;31mSyntaxError\u001b[0m\u001b[1;31m:\u001b[0m invalid syntax\n"
     ]
    }
   ],
   "source": [
    "def times_ten('number') :\n",
    "    product = number * 10\n",
    "    print(product)"
   ]
  },
  {
   "cell_type": "code",
   "execution_count": 6,
   "id": "77e359cd",
   "metadata": {},
   "outputs": [],
   "source": [
    "def times_ten(number) :\n",
    "    product = number * 10\n",
    "    print('product')"
   ]
  },
  {
   "cell_type": "code",
   "execution_count": 7,
   "id": "a92d4d69",
   "metadata": {},
   "outputs": [
    {
     "ename": "SyntaxError",
     "evalue": "invalid syntax (4055000024.py, line 1)",
     "output_type": "error",
     "traceback": [
      "\u001b[1;36m  Cell \u001b[1;32mIn[7], line 1\u001b[1;36m\u001b[0m\n\u001b[1;33m    def times_ten(4) :\u001b[0m\n\u001b[1;37m                  ^\u001b[0m\n\u001b[1;31mSyntaxError\u001b[0m\u001b[1;31m:\u001b[0m invalid syntax\n"
     ]
    }
   ],
   "source": [
    "def times_ten(4) :\n",
    "    product = number * 10\n",
    "    print(product)"
   ]
  },
  {
   "cell_type": "code",
   "execution_count": 8,
   "id": "09174317",
   "metadata": {},
   "outputs": [],
   "source": [
    "def times_ten(number):\n",
    "    product = number * 10\n",
    "    print(product)"
   ]
  },
  {
   "cell_type": "code",
   "execution_count": 9,
   "id": "0683adb1",
   "metadata": {},
   "outputs": [
    {
     "ename": "SyntaxError",
     "evalue": "invalid syntax (4254880677.py, line 1)",
     "output_type": "error",
     "traceback": [
      "\u001b[1;36m  Cell \u001b[1;32mIn[9], line 1\u001b[1;36m\u001b[0m\n\u001b[1;33m    def times_ten(4):\u001b[0m\n\u001b[1;37m                  ^\u001b[0m\n\u001b[1;31mSyntaxError\u001b[0m\u001b[1;31m:\u001b[0m invalid syntax\n"
     ]
    }
   ],
   "source": [
    "def times_ten(4):\n",
    "    product = 4 * 10\n",
    "    print(product)"
   ]
  },
  {
   "cell_type": "code",
   "execution_count": 10,
   "id": "48a769c3",
   "metadata": {},
   "outputs": [
    {
     "ename": "IndentationError",
     "evalue": "expected an indented block after function definition on line 1 (2676104018.py, line 2)",
     "output_type": "error",
     "traceback": [
      "\u001b[1;36m  Cell \u001b[1;32mIn[10], line 2\u001b[1;36m\u001b[0m\n\u001b[1;33m    product = number * 10\u001b[0m\n\u001b[1;37m    ^\u001b[0m\n\u001b[1;31mIndentationError\u001b[0m\u001b[1;31m:\u001b[0m expected an indented block after function definition on line 1\n"
     ]
    }
   ],
   "source": [
    "def times_ten(number):\n",
    "product = number * 10\n",
    "print(product)"
   ]
  },
  {
   "cell_type": "code",
   "execution_count": 11,
   "id": "668c44c3",
   "metadata": {},
   "outputs": [
    {
     "ename": "NameError",
     "evalue": "name 'product' is not defined",
     "output_type": "error",
     "traceback": [
      "\u001b[1;31m---------------------------------------------------------------------------\u001b[0m",
      "\u001b[1;31mNameError\u001b[0m                                 Traceback (most recent call last)",
      "Cell \u001b[1;32mIn[11], line 3\u001b[0m\n\u001b[0;32m      1\u001b[0m \u001b[38;5;28;01mdef\u001b[39;00m \u001b[38;5;21mtimes_ten\u001b[39m(number):\n\u001b[0;32m      2\u001b[0m     product \u001b[38;5;241m=\u001b[39m number \u001b[38;5;241m*\u001b[39m \u001b[38;5;241m10\u001b[39m\n\u001b[1;32m----> 3\u001b[0m \u001b[38;5;28mprint\u001b[39m(product)\n",
      "\u001b[1;31mNameError\u001b[0m: name 'product' is not defined"
     ]
    }
   ],
   "source": [
    "def times_ten(number):\n",
    "    product = number * 10\n",
    "print(product)"
   ]
  },
  {
   "cell_type": "code",
   "execution_count": 13,
   "id": "ad5bbf91",
   "metadata": {},
   "outputs": [
    {
     "ename": "IndentationError",
     "evalue": "unindent does not match any outer indentation level (<tokenize>, line 3)",
     "output_type": "error",
     "traceback": [
      "\u001b[1;36m  File \u001b[1;32m<tokenize>:3\u001b[1;36m\u001b[0m\n\u001b[1;33m    print(product)\u001b[0m\n\u001b[1;37m    ^\u001b[0m\n\u001b[1;31mIndentationError\u001b[0m\u001b[1;31m:\u001b[0m unindent does not match any outer indentation level\n"
     ]
    }
   ],
   "source": [
    "def times_ten(number):\n",
    "    product = number * 10\n",
    " print(product)"
   ]
  },
  {
   "cell_type": "code",
   "execution_count": 14,
   "id": "4541318a",
   "metadata": {},
   "outputs": [],
   "source": [
    "def times_ten(number):\n",
    "    product = number * 10\n",
    "    print(product)"
   ]
  },
  {
   "cell_type": "code",
   "execution_count": 15,
   "id": "d91d066c",
   "metadata": {},
   "outputs": [
    {
     "ename": "IndentationError",
     "evalue": "unexpected indent (1351173851.py, line 3)",
     "output_type": "error",
     "traceback": [
      "\u001b[1;36m  Cell \u001b[1;32mIn[15], line 3\u001b[1;36m\u001b[0m\n\u001b[1;33m    print(product)\u001b[0m\n\u001b[1;37m    ^\u001b[0m\n\u001b[1;31mIndentationError\u001b[0m\u001b[1;31m:\u001b[0m unexpected indent\n"
     ]
    }
   ],
   "source": [
    "def times_ten(number):\n",
    "    product = number * 10\n",
    "        print(product)"
   ]
  },
  {
   "cell_type": "code",
   "execution_count": 16,
   "id": "06c6298e",
   "metadata": {},
   "outputs": [
    {
     "ename": "NameError",
     "evalue": "name 'product' is not defined",
     "output_type": "error",
     "traceback": [
      "\u001b[1;31m---------------------------------------------------------------------------\u001b[0m",
      "\u001b[1;31mNameError\u001b[0m                                 Traceback (most recent call last)",
      "Cell \u001b[1;32mIn[16], line 3\u001b[0m\n\u001b[0;32m      1\u001b[0m \u001b[38;5;28;01mdef\u001b[39;00m \u001b[38;5;21mtimes_ten\u001b[39m(number):\n\u001b[0;32m      2\u001b[0m     product\u001b[38;5;241m=\u001b[39mnumber \u001b[38;5;241m*\u001b[39m \u001b[38;5;241m10\u001b[39m\n\u001b[1;32m----> 3\u001b[0m \u001b[38;5;28mprint\u001b[39m(product)\n",
      "\u001b[1;31mNameError\u001b[0m: name 'product' is not defined"
     ]
    }
   ],
   "source": [
    "def times_ten(number):\n",
    "    product=number * 10\n",
    "print(product)"
   ]
  },
  {
   "cell_type": "code",
   "execution_count": 17,
   "id": "8a5f0371",
   "metadata": {},
   "outputs": [
    {
     "ename": "NameError",
     "evalue": "name 'product' is not defined",
     "output_type": "error",
     "traceback": [
      "\u001b[1;31m---------------------------------------------------------------------------\u001b[0m",
      "\u001b[1;31mNameError\u001b[0m                                 Traceback (most recent call last)",
      "Cell \u001b[1;32mIn[17], line 3\u001b[0m\n\u001b[0;32m      1\u001b[0m \u001b[38;5;28;01mdef\u001b[39;00m \u001b[38;5;21mtimes_ten\u001b[39m(number):\n\u001b[0;32m      2\u001b[0m     product\u001b[38;5;241m=\u001b[39mnumber\u001b[38;5;241m*\u001b[39m \u001b[38;5;241m10\u001b[39m\n\u001b[1;32m----> 3\u001b[0m \u001b[38;5;28mprint\u001b[39m(product)\n",
      "\u001b[1;31mNameError\u001b[0m: name 'product' is not defined"
     ]
    }
   ],
   "source": [
    "def times_ten(number):\n",
    "    product=number* 10\n",
    "print(product)"
   ]
  },
  {
   "cell_type": "code",
   "execution_count": 18,
   "id": "db6e65ce",
   "metadata": {},
   "outputs": [
    {
     "ename": "NameError",
     "evalue": "name 'product' is not defined",
     "output_type": "error",
     "traceback": [
      "\u001b[1;31m---------------------------------------------------------------------------\u001b[0m",
      "\u001b[1;31mNameError\u001b[0m                                 Traceback (most recent call last)",
      "Cell \u001b[1;32mIn[18], line 3\u001b[0m\n\u001b[0;32m      1\u001b[0m \u001b[38;5;28;01mdef\u001b[39;00m \u001b[38;5;21mtimes_ten\u001b[39m(number):\n\u001b[0;32m      2\u001b[0m     product\u001b[38;5;241m=\u001b[39mnumber\u001b[38;5;241m*\u001b[39m\u001b[38;5;241m10\u001b[39m\n\u001b[1;32m----> 3\u001b[0m \u001b[38;5;28mprint\u001b[39m(product)\n",
      "\u001b[1;31mNameError\u001b[0m: name 'product' is not defined"
     ]
    }
   ],
   "source": [
    "def times_ten(number):\n",
    "    product=number*10\n",
    "print(product)"
   ]
  },
  {
   "cell_type": "code",
   "execution_count": 19,
   "id": "e0efb6ba",
   "metadata": {},
   "outputs": [
    {
     "name": "stdout",
     "output_type": "stream",
     "text": [
      "product\n"
     ]
    }
   ],
   "source": [
    "def times_ten(number):\n",
    "    product=number * 10\n",
    "print('product')"
   ]
  },
  {
   "cell_type": "code",
   "execution_count": 20,
   "id": "03bf1c52",
   "metadata": {},
   "outputs": [
    {
     "ename": "NameError",
     "evalue": "name 'product' is not defined",
     "output_type": "error",
     "traceback": [
      "\u001b[1;31m---------------------------------------------------------------------------\u001b[0m",
      "\u001b[1;31mNameError\u001b[0m                                 Traceback (most recent call last)",
      "Cell \u001b[1;32mIn[20], line 3\u001b[0m\n\u001b[0;32m      1\u001b[0m \u001b[38;5;28;01mdef\u001b[39;00m \u001b[38;5;21mtimes_ten\u001b[39m(number):\n\u001b[0;32m      2\u001b[0m     product\u001b[38;5;241m=\u001b[39m number \u001b[38;5;241m*\u001b[39m \u001b[38;5;241m10\u001b[39m\n\u001b[1;32m----> 3\u001b[0m \u001b[38;5;28mprint\u001b[39m(product)\n",
      "\u001b[1;31mNameError\u001b[0m: name 'product' is not defined"
     ]
    }
   ],
   "source": [
    "def times_ten(number):\n",
    "    product= number * 10\n",
    "print(product)"
   ]
  },
  {
   "cell_type": "code",
   "execution_count": 21,
   "id": "3d825771",
   "metadata": {},
   "outputs": [
    {
     "ename": "NameError",
     "evalue": "name 'product' is not defined",
     "output_type": "error",
     "traceback": [
      "\u001b[1;31m---------------------------------------------------------------------------\u001b[0m",
      "\u001b[1;31mNameError\u001b[0m                                 Traceback (most recent call last)",
      "Cell \u001b[1;32mIn[21], line 3\u001b[0m\n\u001b[0;32m      1\u001b[0m \u001b[38;5;28;01mdef\u001b[39;00m \u001b[38;5;21mtimes_ten\u001b[39m(number):\n\u001b[0;32m      2\u001b[0m  product \u001b[38;5;241m=\u001b[39m number \u001b[38;5;241m*\u001b[39m \u001b[38;5;241m10\u001b[39m\n\u001b[1;32m----> 3\u001b[0m \u001b[38;5;28mprint\u001b[39m(product)\n",
      "\u001b[1;31mNameError\u001b[0m: name 'product' is not defined"
     ]
    }
   ],
   "source": [
    "def times_ten(number):\n",
    " product = number * 10\n",
    "print(product)"
   ]
  },
  {
   "cell_type": "code",
   "execution_count": 22,
   "id": "7454a6f7",
   "metadata": {},
   "outputs": [
    {
     "ename": "NameError",
     "evalue": "name 'result' is not defined",
     "output_type": "error",
     "traceback": [
      "\u001b[1;31m---------------------------------------------------------------------------\u001b[0m",
      "\u001b[1;31mNameError\u001b[0m                                 Traceback (most recent call last)",
      "Cell \u001b[1;32mIn[22], line 3\u001b[0m\n\u001b[0;32m      1\u001b[0m \u001b[38;5;28;01mdef\u001b[39;00m \u001b[38;5;21mtimes_ten\u001b[39m(number):\n\u001b[0;32m      2\u001b[0m     result \u001b[38;5;241m=\u001b[39m number \u001b[38;5;241m*\u001b[39m \u001b[38;5;241m10\u001b[39m\n\u001b[1;32m----> 3\u001b[0m \u001b[38;5;28mprint\u001b[39m(result)\n",
      "\u001b[1;31mNameError\u001b[0m: name 'result' is not defined"
     ]
    }
   ],
   "source": [
    "def times_ten(number):\n",
    "    result = number * 10\n",
    "print(result)"
   ]
  },
  {
   "cell_type": "code",
   "execution_count": 23,
   "id": "e37c28e3",
   "metadata": {},
   "outputs": [
    {
     "name": "stdout",
     "output_type": "stream",
     "text": [
      " im pretty sure im defining the result but i dont know why its not defining\n"
     ]
    }
   ],
   "source": [
    "print(' im pretty sure im defining the result but i dont know why its not defining')"
   ]
  },
  {
   "cell_type": "code",
   "execution_count": 24,
   "id": "38c31ad4",
   "metadata": {},
   "outputs": [
    {
     "name": "stdout",
     "output_type": "stream",
     "text": [
      "Question 2\n"
     ]
    }
   ],
   "source": [
    "print('Question 2')"
   ]
  },
  {
   "cell_type": "code",
   "execution_count": 25,
   "id": "fecc7885",
   "metadata": {},
   "outputs": [
    {
     "ename": "SyntaxError",
     "evalue": "expected ':' (2994692959.py, line 1)",
     "output_type": "error",
     "traceback": [
      "\u001b[1;36m  Cell \u001b[1;32mIn[25], line 1\u001b[1;36m\u001b[0m\n\u001b[1;33m    def show_value(quantity)\u001b[0m\n\u001b[1;37m                            ^\u001b[0m\n\u001b[1;31mSyntaxError\u001b[0m\u001b[1;31m:\u001b[0m expected ':'\n"
     ]
    }
   ],
   "source": [
    "def show_value(quantity)\n",
    "    show_value(12)"
   ]
  },
  {
   "cell_type": "code",
   "execution_count": 28,
   "id": "bec8bca9",
   "metadata": {},
   "outputs": [],
   "source": [
    "def show_value(quantity):\n",
    "    show_value(12)"
   ]
  },
  {
   "cell_type": "markdown",
   "id": "8e6e62b0",
   "metadata": {},
   "source": [
    "# Programming Practice "
   ]
  },
  {
   "cell_type": "markdown",
   "id": "47fd04bb",
   "metadata": {},
   "source": [
    "## Question 1"
   ]
  },
  {
   "cell_type": "code",
   "execution_count": 35,
   "id": "2f7cee31",
   "metadata": {},
   "outputs": [
    {
     "ename": "IndentationError",
     "evalue": "unindent does not match any outer indentation level (<tokenize>, line 9)",
     "output_type": "error",
     "traceback": [
      "\u001b[1;36m  File \u001b[1;32m<tokenize>:9\u001b[1;36m\u001b[0m\n\u001b[1;33m    print ('That converts to ', miles, 'miles.')\u001b[0m\n\u001b[1;37m    ^\u001b[0m\n\u001b[1;31mIndentationError\u001b[0m\u001b[1;31m:\u001b[0m unindent does not match any outer indentation level\n"
     ]
    }
   ],
   "source": [
    "def main():\n",
    "\n",
    "    kilometers = input('Enter the distance in kilometers: ')\n",
    "    kilo(kilometers)\n",
    "        \n",
    "def kilo(kilometers):\n",
    "        miles = kilometers * 0.6214\n",
    "    \n",
    "    print ('That converts to ', miles, 'miles.')\n",
    "    \n",
    "main()"
   ]
  },
  {
   "cell_type": "code",
   "execution_count": 31,
   "id": "e6f9908a",
   "metadata": {},
   "outputs": [
    {
     "name": "stdout",
     "output_type": "stream",
     "text": [
      "Enter the distance in kilometers: 42\n"
     ]
    },
    {
     "ename": "TypeError",
     "evalue": "can't multiply sequence by non-int of type 'float'",
     "output_type": "error",
     "traceback": [
      "\u001b[1;31m---------------------------------------------------------------------------\u001b[0m",
      "\u001b[1;31mTypeError\u001b[0m                                 Traceback (most recent call last)",
      "Cell \u001b[1;32mIn[31], line 9\u001b[0m\n\u001b[0;32m      6\u001b[0m \u001b[38;5;28;01mdef\u001b[39;00m \u001b[38;5;21mkilo\u001b[39m(kilometers):\n\u001b[0;32m      7\u001b[0m         miles \u001b[38;5;241m=\u001b[39m kilometers \u001b[38;5;241m*\u001b[39m \u001b[38;5;241m0.6214\u001b[39m\n\u001b[1;32m----> 9\u001b[0m main()\n",
      "Cell \u001b[1;32mIn[31], line 4\u001b[0m, in \u001b[0;36mmain\u001b[1;34m()\u001b[0m\n\u001b[0;32m      1\u001b[0m \u001b[38;5;28;01mdef\u001b[39;00m \u001b[38;5;21mmain\u001b[39m():\n\u001b[0;32m      3\u001b[0m     kilometers \u001b[38;5;241m=\u001b[39m \u001b[38;5;28minput\u001b[39m(\u001b[38;5;124m'\u001b[39m\u001b[38;5;124mEnter the distance in kilometers: \u001b[39m\u001b[38;5;124m'\u001b[39m)\n\u001b[1;32m----> 4\u001b[0m     kilo(kilometers)\n",
      "Cell \u001b[1;32mIn[31], line 7\u001b[0m, in \u001b[0;36mkilo\u001b[1;34m(kilometers)\u001b[0m\n\u001b[0;32m      6\u001b[0m \u001b[38;5;28;01mdef\u001b[39;00m \u001b[38;5;21mkilo\u001b[39m(kilometers):\n\u001b[1;32m----> 7\u001b[0m         miles \u001b[38;5;241m=\u001b[39m kilometers \u001b[38;5;241m*\u001b[39m \u001b[38;5;241m0.6214\u001b[39m\n",
      "\u001b[1;31mTypeError\u001b[0m: can't multiply sequence by non-int of type 'float'"
     ]
    }
   ],
   "source": [
    "def main():\n",
    "\n",
    "    kilometers = input('Enter the distance in kilometers: ')\n",
    "    kilo(kilometers)\n",
    "        \n",
    "def kilo(kilometers):\n",
    "        miles = kilometers * 0.6214\n",
    "    \n",
    "main()"
   ]
  },
  {
   "cell_type": "code",
   "execution_count": 32,
   "id": "47e2b22d",
   "metadata": {},
   "outputs": [
    {
     "name": "stdout",
     "output_type": "stream",
     "text": [
      "wat\n"
     ]
    }
   ],
   "source": [
    "print('wat')"
   ]
  },
  {
   "cell_type": "code",
   "execution_count": 36,
   "id": "3674e75d",
   "metadata": {},
   "outputs": [
    {
     "name": "stdout",
     "output_type": "stream",
     "text": [
      "The program is right, but i think what happened was that i inputed the value the wrong way haha.\n"
     ]
    }
   ],
   "source": [
    "print('The program is right, but i think what happened was that i inputed the value the wrong way haha.')"
   ]
  },
  {
   "cell_type": "markdown",
   "id": "2f2c2d6b",
   "metadata": {},
   "source": [
    "## Question 17"
   ]
  },
  {
   "cell_type": "code",
   "execution_count": 38,
   "id": "45a1a6b1",
   "metadata": {},
   "outputs": [
    {
     "name": "stdout",
     "output_type": "stream",
     "text": [
      "Enter a number: 5\n",
      "5 is a prime\n"
     ]
    }
   ],
   "source": [
    "a=int(input(\"Enter a number: \"))\n",
    "i=2\n",
    "p=[]\n",
    "while i<=a-1:\n",
    "    p.append(a%i)\n",
    "    i=i+1\n",
    "if 0 not in list(p):\n",
    "    print(a, \"is a prime\")\n",
    "else:\n",
    "    print(a, \"is not a prime\")"
   ]
  },
  {
   "cell_type": "code",
   "execution_count": 39,
   "id": "f90ce943",
   "metadata": {},
   "outputs": [
    {
     "name": "stdout",
     "output_type": "stream",
     "text": [
      "Enter a number: 18\n",
      "18 is not a prime\n"
     ]
    }
   ],
   "source": [
    "a=int(input(\"Enter a number: \"))\n",
    "i=2\n",
    "p=[]\n",
    "while i<=a-1:\n",
    "    p.append(a%i)\n",
    "    i=i+1\n",
    "if 0 not in list(p):\n",
    "    print(a, \"is a prime\")\n",
    "else:\n",
    "    print(a, \"is not a prime\")"
   ]
  },
  {
   "cell_type": "code",
   "execution_count": 40,
   "id": "3abfcf93",
   "metadata": {},
   "outputs": [
    {
     "name": "stdout",
     "output_type": "stream",
     "text": [
      "as you can see, the program defines whether or not the number is prime\n"
     ]
    }
   ],
   "source": [
    "print('as you can see, the program defines whether or not the number is prime')"
   ]
  },
  {
   "cell_type": "markdown",
   "id": "2dc458a2",
   "metadata": {},
   "source": [
    "## Question 18"
   ]
  },
  {
   "cell_type": "code",
   "execution_count": 42,
   "id": "a6b4e7ff",
   "metadata": {},
   "outputs": [
    {
     "name": "stdout",
     "output_type": "stream",
     "text": [
      "1  is prime\n",
      "2  is prime\n",
      "3  is prime\n",
      "5  is prime\n",
      "7  is prime\n",
      "11  is prime\n",
      "13  is prime\n",
      "17  is prime\n",
      "19  is prime\n",
      "23  is prime\n",
      "29  is prime\n",
      "31  is prime\n",
      "37  is prime\n",
      "41  is prime\n",
      "43  is prime\n",
      "47  is prime\n",
      "53  is prime\n",
      "59  is prime\n",
      "61  is prime\n",
      "67  is prime\n",
      "71  is prime\n",
      "73  is prime\n",
      "79  is prime\n",
      "83  is prime\n",
      "89  is prime\n",
      "97  is prime\n"
     ]
    }
   ],
   "source": [
    "def is_prime(number):\n",
    "    \n",
    "    for test in range(2,number):\n",
    "        if ( (number % test) == 0):\n",
    "           \n",
    "            return False\n",
    "    \n",
    "    return True\n",
    "\n",
    "def main():\n",
    "\n",
    "    for value in range(1, 101):\n",
    "\n",
    "        if ( is_prime(value) ):\n",
    "            print (value, ' is prime')\n",
    "\n",
    "main()"
   ]
  },
  {
   "cell_type": "code",
   "execution_count": 43,
   "id": "e1d179a4",
   "metadata": {},
   "outputs": [
    {
     "name": "stdout",
     "output_type": "stream",
     "text": [
      "So i created the testing loop, then I made sure that the program detected prime and composite numbers in a sense, then i set the range of values from 1 to 100. Finally I created a loop that calls the is prime function and then called the main function \n"
     ]
    }
   ],
   "source": [
    "print('So i created the testing loop, then I made sure that the program detected prime and composite numbers in a sense, then i set the range of values from 1 to 100. Finally I created a loop that calls the is prime function and then called the main function ')"
   ]
  },
  {
   "cell_type": "markdown",
   "id": "623710ff",
   "metadata": {},
   "source": [
    "## Question 12"
   ]
  },
  {
   "cell_type": "code",
   "execution_count": 44,
   "id": "d2ed7099",
   "metadata": {},
   "outputs": [
    {
     "name": "stdout",
     "output_type": "stream",
     "text": [
      "Input the first number: 4\n",
      "Input the second number: 8\n",
      "The maximum value is 8\n"
     ]
    }
   ],
   "source": [
    "def max(firstNumber, secondNumber ):\n",
    "    if firstNumber > secondNumber:\n",
    "        return firstNumber\n",
    "    return secondNumber\n",
    "\n",
    "firstNumber=int(input(\"Input the first number: \"))\n",
    "secondNumber=int(input(\"Input the second number: \"))\n",
    "\n",
    "maxValue=max(firstNumber,secondNumber)\n",
    "\n",
    "print(f\"The maximum value is {maxValue}\")"
   ]
  },
  {
   "cell_type": "code",
   "execution_count": 47,
   "id": "730b66b9",
   "metadata": {},
   "outputs": [],
   "source": [
    "#Question 12 asks us to create a function named max that accepts two integer values as arguments"
   ]
  },
  {
   "cell_type": "code",
   "execution_count": null,
   "id": "616a3ad4",
   "metadata": {},
   "outputs": [],
   "source": []
  }
 ],
 "metadata": {
  "kernelspec": {
   "display_name": "Python 3 (ipykernel)",
   "language": "python",
   "name": "python3"
  },
  "language_info": {
   "codemirror_mode": {
    "name": "ipython",
    "version": 3
   },
   "file_extension": ".py",
   "mimetype": "text/x-python",
   "name": "python",
   "nbconvert_exporter": "python",
   "pygments_lexer": "ipython3",
   "version": "3.11.5"
  }
 },
 "nbformat": 4,
 "nbformat_minor": 5
}
