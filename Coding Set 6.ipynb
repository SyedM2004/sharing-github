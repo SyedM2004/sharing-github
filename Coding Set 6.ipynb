{
 "cells": [
  {
   "cell_type": "markdown",
   "id": "c6d41523",
   "metadata": {},
   "source": [
    "# Algorithm Workbench"
   ]
  },
  {
   "cell_type": "markdown",
   "id": "4c7b9188",
   "metadata": {},
   "source": [
    "## Question 1"
   ]
  },
  {
   "cell_type": "code",
   "execution_count": 1,
   "id": "b30c0011",
   "metadata": {},
   "outputs": [
    {
     "name": "stdout",
     "output_type": "stream",
     "text": [
      "Successfully wrote your name to my_name.txt\n"
     ]
    }
   ],
   "source": [
    "your_name = \"Your Name\"\n",
    "\n",
    "filename = \"my_name.txt\"\n",
    "\n",
    "try:\n",
    "    with open(filename, \"w\") as file:\n",
    "        # Write your name to the file\n",
    "        file.write(your_name)\n",
    "except IOError as e:\n",
    "    print(f\"An error occurred while writing to the file: {e}\")\n",
    "else:\n",
    "    print(f\"Successfully wrote your name to {filename}\")\n"
   ]
  },
  {
   "cell_type": "code",
   "execution_count": 2,
   "id": "75d5e9e5",
   "metadata": {},
   "outputs": [
    {
     "name": "stdout",
     "output_type": "stream",
     "text": [
      "you can switch out your name and actually write your name\n"
     ]
    }
   ],
   "source": [
    "print('you can switch out your name and actually write your name')"
   ]
  },
  {
   "cell_type": "markdown",
   "id": "dd250d03",
   "metadata": {},
   "source": [
    "## Question 2"
   ]
  },
  {
   "cell_type": "code",
   "execution_count": 5,
   "id": "7b40f60b",
   "metadata": {},
   "outputs": [
    {
     "name": "stdout",
     "output_type": "stream",
     "text": [
      "Your name from the file: Your Name\n"
     ]
    }
   ],
   "source": [
    "filename = \"my_name.txt\"\n",
    "\n",
    "try:\n",
    "    with open(filename, \"r\") as file:\n",
    "        your_name = file.read()\n",
    "        print(\"Your name from the file:\", your_name)\n",
    "except IOError as e:\n",
    "    print(f\"An error occurred while reading from the file: {e}\")\n"
   ]
  },
  {
   "cell_type": "code",
   "execution_count": 6,
   "id": "43088000",
   "metadata": {},
   "outputs": [
    {
     "name": "stdout",
     "output_type": "stream",
     "text": [
      "if we had replaced the name with our actual name, it wouldve processed with our actual name, for example it wouldve stated that my name from the file was Murtaza\n"
     ]
    }
   ],
   "source": [
    "print('if we had replaced the name with our actual name, it wouldve processed with our actual name, for example it wouldve stated that my name from the file was Murtaza')"
   ]
  },
  {
   "cell_type": "markdown",
   "id": "2db11c30",
   "metadata": {},
   "source": [
    "# Programming Exercises"
   ]
  },
  {
   "cell_type": "markdown",
   "id": "bdcd3c04",
   "metadata": {},
   "source": [
    "## Question 1"
   ]
  },
  {
   "cell_type": "code",
   "execution_count": 12,
   "id": "d59e8158",
   "metadata": {},
   "outputs": [
    {
     "name": "stdout",
     "output_type": "stream",
     "text": [
      "The file 'numbers.txt' does not exist.\n"
     ]
    }
   ],
   "source": [
    "filename = \"numbers.txt\"\n",
    "\n",
    "try:\n",
    "    with open(filename, \"r\") as file:\n",
    "        for line in file:\n",
    "            number = line.strip()\n",
    "            if number.isdigit():  \n",
    "                print(int(number))\n",
    "except FileNotFoundError:\n",
    "    print(f\"The file '{filename}' does not exist.\")\n",
    "except IOError as e:\n",
    "    print(f\"An error occurred while reading from the file: {e}\")\n",
    "except ValueError as ve:\n",
    "    print(f\"Error: {ve}. The file contains non-integer values.\")\n"
   ]
  },
  {
   "cell_type": "code",
   "execution_count": 18,
   "id": "263d8099",
   "metadata": {},
   "outputs": [
    {
     "name": "stdout",
     "output_type": "stream",
     "text": [
      "since the file doesnt actually exist, the numbers cant be displayed and the program cannot run\n"
     ]
    }
   ],
   "source": [
    "print('since the file doesnt actually exist, the numbers cant be displayed and the program cannot run')"
   ]
  },
  {
   "cell_type": "markdown",
   "id": "69f3267d",
   "metadata": {},
   "source": [
    "## Question 6"
   ]
  },
  {
   "cell_type": "code",
   "execution_count": 15,
   "id": "a907d768",
   "metadata": {},
   "outputs": [
    {
     "name": "stdout",
     "output_type": "stream",
     "text": [
      "The file 'numbers.txt' does not exist.\n"
     ]
    }
   ],
   "source": [
    "filename = \"numbers.txt\"\n",
    "\n",
    "try:\n",
    "    with open(filename, \"r\") as file:\n",
    "        total = 0\n",
    "        count = 0\n",
    "        for line in file:\n",
    "            number = line.strip()\n",
    "            if number.isdigit():\n",
    "                total += int(number)\n",
    "                count += 1\n",
    "\n",
    "        if count > 0:\n",
    "            average = total / count\n",
    "            print(f\"The average of the numbers in '{filename}' is: {average:.2f}\")\n",
    "        else:\n",
    "            print(f\"No valid numbers found in '{filename}'\")\n",
    "\n",
    "except FileNotFoundError:\n",
    "    print(f\"The file '{filename}' does not exist.\")\n",
    "except IOError as e:\n",
    "    print(f\"An error occurred while reading from the file: {e}\")\n",
    "except ValueError as ve:\n",
    "    print(f\"Error: {ve}. The file contains non-integer values.\")\n"
   ]
  },
  {
   "cell_type": "code",
   "execution_count": 16,
   "id": "afa5be0d",
   "metadata": {},
   "outputs": [
    {
     "name": "stdout",
     "output_type": "stream",
     "text": [
      "the file doesnt exist on my computer so the average cannot be taken out\n"
     ]
    }
   ],
   "source": [
    "print('the file doesnt exist on my computer so the average cannot be taken out')"
   ]
  },
  {
   "cell_type": "markdown",
   "id": "5d33a621",
   "metadata": {},
   "source": [
    "## Question 9"
   ]
  },
  {
   "cell_type": "code",
   "execution_count": 19,
   "id": "b9e5e132",
   "metadata": {},
   "outputs": [
    {
     "name": "stdout",
     "output_type": "stream",
     "text": [
      "The file 'numbers.txt' does not exist.\n"
     ]
    }
   ],
   "source": [
    "filename = \"numbers.txt\"\n",
    "\n",
    "try:\n",
    "    with open(filename, \"r\") as file:\n",
    "        total = 0\n",
    "        count = 0\n",
    "        for line in file:\n",
    "            try:\n",
    "                number = line.strip()\n",
    "                if number.isdigit(): \n",
    "                    total += int(number)\n",
    "                    count += 1\n",
    "            except ValueError:\n",
    "                print(f\"Skipping non-integer value: {line.strip()}\")\n",
    "\n",
    "        if count > 0:\n",
    "            average = total / count\n",
    "            print(f\"The average of the numbers in '{filename}' is: {average:.2f}\")\n",
    "        else:\n",
    "            print(f\"No valid numbers found in '{filename}'\")\n",
    "\n",
    "except FileNotFoundError:\n",
    "    print(f\"The file '{filename}' does not exist.\")\n",
    "except IOError as e:\n",
    "    print(f\"An error occurred while reading from the file: {e}\")\n"
   ]
  },
  {
   "cell_type": "code",
   "execution_count": 20,
   "id": "ae2699ab",
   "metadata": {},
   "outputs": [
    {
     "name": "stdout",
     "output_type": "stream",
     "text": [
      "here is the modified program that handles the IO error and the value Error\n"
     ]
    }
   ],
   "source": [
    "print('here is the modified program that handles the IO error and the value Error')"
   ]
  },
  {
   "cell_type": "markdown",
   "id": "03d861fd",
   "metadata": {},
   "source": [
    "## Question 10"
   ]
  },
  {
   "cell_type": "code",
   "execution_count": 21,
   "id": "550aa6a7",
   "metadata": {},
   "outputs": [
    {
     "name": "stdout",
     "output_type": "stream",
     "text": [
      "Enter player's name (or 'q' to quit): Tiger Woods\n",
      "Enter player's score: 19\n",
      "Enter player's name (or 'q' to quit): Bailey\n",
      "Enter player's score: 24\n",
      "Enter player's name (or 'q' to quit): Reed\n",
      "Enter player's score: 19\n",
      "Enter player's name (or 'q' to quit): Scorer\n",
      "Enter player's score: 20\n",
      "Enter player's name (or 'q' to quit): r\n",
      "Enter player's score: w\n",
      "Invalid score. Please enter a valid number.\n",
      "Enter player's name (or 'q' to quit): q\n",
      "Player records have been saved to golf.txt.\n"
     ]
    }
   ],
   "source": [
    "with open(\"golf.txt\", \"w\") as file:\n",
    "    while True:\n",
    "        player_name = input(\"Enter player's name (or 'q' to quit): \")\n",
    "        if player_name.lower() == 'q':\n",
    "            break\n",
    "\n",
    "        try:\n",
    "            player_score = int(input(\"Enter player's score: \"))\n",
    "            file.write(f\"{player_name}: {player_score}\\n\")\n",
    "        except ValueError:\n",
    "            print(\"Invalid score. Please enter a valid number.\")\n",
    "\n",
    "print(\"Player records have been saved to golf.txt.\")\n"
   ]
  },
  {
   "cell_type": "code",
   "execution_count": 23,
   "id": "2607c630",
   "metadata": {},
   "outputs": [
    {
     "name": "stdout",
     "output_type": "stream",
     "text": [
      "Player Records:\n",
      "Tiger Woods: 19\n",
      "Bailey: 24\n",
      "Reed: 19\n",
      "Scorer: 20\n"
     ]
    }
   ],
   "source": [
    "try:\n",
    "    with open(\"golf.txt\", \"r\") as file:\n",
    "        print(\"Player Records:\")\n",
    "        for line in file:\n",
    "            player_record = line.strip()\n",
    "            print(player_record)\n",
    "except FileNotFoundError:\n",
    "    print(\"The 'golf.txt' file does not exist.\")\n",
    "except IOError as e:\n",
    "    print(f\"An error occurred while reading from the file: {e}\")\n"
   ]
  },
  {
   "cell_type": "code",
   "execution_count": 24,
   "id": "468974ae",
   "metadata": {},
   "outputs": [
    {
     "name": "stdout",
     "output_type": "stream",
     "text": [
      "to finish inputting values, the letter q is pressed and then the second part to the command is run. this displays the player names and scores\n"
     ]
    }
   ],
   "source": [
    "print('to finish inputting values, the letter q is pressed and then the second part to the command is run. this displays the player names and scores')"
   ]
  },
  {
   "cell_type": "code",
   "execution_count": null,
   "id": "dcac6f88",
   "metadata": {},
   "outputs": [],
   "source": []
  }
 ],
 "metadata": {
  "kernelspec": {
   "display_name": "Python 3 (ipykernel)",
   "language": "python",
   "name": "python3"
  },
  "language_info": {
   "codemirror_mode": {
    "name": "ipython",
    "version": 3
   },
   "file_extension": ".py",
   "mimetype": "text/x-python",
   "name": "python",
   "nbconvert_exporter": "python",
   "pygments_lexer": "ipython3",
   "version": "3.11.5"
  }
 },
 "nbformat": 4,
 "nbformat_minor": 5
}
