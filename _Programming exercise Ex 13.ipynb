{
 "cells": [
  {
   "cell_type": "markdown",
   "id": "038235d4",
   "metadata": {},
   "source": [
    "# Chapter 2 Programming exercise, Problem 13"
   ]
  },
  {
   "cell_type": "code",
   "execution_count": 1,
   "id": "4da70305",
   "metadata": {},
   "outputs": [
    {
     "name": "stdout",
     "output_type": "stream",
     "text": [
      "Enter the length of the row, in feet: 12\n",
      "Enter the amount of space used by an end-post assembly: 4\n",
      "Enter the amount of space between vines2\n"
     ]
    }
   ],
   "source": [
    "R=float(input('Enter the length of the row, in feet: '))\n",
    "E=float(input('Enter the amount of space used by an end-post assembly: '))\n",
    "S=float(input('Enter the amount of space between vines: '))"
   ]
  },
  {
   "cell_type": "code",
   "execution_count": 2,
   "id": "c3c9c38a",
   "metadata": {},
   "outputs": [],
   "source": [
    "V = (R-(2*E)) / S"
   ]
  },
  {
   "cell_type": "code",
   "execution_count": 3,
   "id": "16114869",
   "metadata": {},
   "outputs": [
    {
     "name": "stdout",
     "output_type": "stream",
     "text": [
      "Number of grapevines that will fit in a row =  2.0\n"
     ]
    }
   ],
   "source": [
    "print('Number of grapevines that will fit in a row = ', V)"
   ]
  },
  {
   "cell_type": "code",
   "execution_count": 4,
   "id": "34db1e44",
   "metadata": {},
   "outputs": [
    {
     "name": "stdout",
     "output_type": "stream",
     "text": [
      "this took me longer than I thought it would. However as you can see I just built up input functions that would relay the output of values into the answer, and put the formula provided to calculate.\n"
     ]
    }
   ],
   "source": [
    "print('this took me longer than I thought it would. However as you can see I just built up input functions that would relay the output of values into the answer, and put the formula provided to calculate.')"
   ]
  },
  {
   "cell_type": "code",
   "execution_count": null,
   "id": "22bdf428",
   "metadata": {},
   "outputs": [],
   "source": []
  }
 ],
 "metadata": {
  "kernelspec": {
   "display_name": "Python 3 (ipykernel)",
   "language": "python",
   "name": "python3"
  },
  "language_info": {
   "codemirror_mode": {
    "name": "ipython",
    "version": 3
   },
   "file_extension": ".py",
   "mimetype": "text/x-python",
   "name": "python",
   "nbconvert_exporter": "python",
   "pygments_lexer": "ipython3",
   "version": "3.11.5"
  }
 },
 "nbformat": 4,
 "nbformat_minor": 5
}
