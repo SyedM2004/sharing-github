{
 "cells": [
  {
   "cell_type": "markdown",
   "id": "bc94f5a1",
   "metadata": {},
   "source": [
    "# CH 4 ALgorithm Workbench Questions 1 And 3"
   ]
  },
  {
   "cell_type": "markdown",
   "id": "990e2b96",
   "metadata": {},
   "source": [
    "# # Question 1"
   ]
  },
  {
   "cell_type": "code",
   "execution_count": 1,
   "id": "aa52e3d6",
   "metadata": {},
   "outputs": [
    {
     "ename": "SyntaxError",
     "evalue": "expected ':' (397918209.py, line 2)",
     "output_type": "error",
     "traceback": [
      "\u001b[1;36m  Cell \u001b[1;32mIn[1], line 2\u001b[1;36m\u001b[0m\n\u001b[1;33m    while [product < 100]\u001b[0m\n\u001b[1;37m                         ^\u001b[0m\n\u001b[1;31mSyntaxError\u001b[0m\u001b[1;31m:\u001b[0m expected ':'\n"
     ]
    }
   ],
   "source": [
    "product = 1\n",
    "while [product < 100]\n",
    "packages = int(input('enter number of packages'))\n",
    "product = packages * 10\n",
    "print('total in stock', product)"
   ]
  },
  {
   "cell_type": "code",
   "execution_count": 2,
   "id": "7fdf40c0",
   "metadata": {},
   "outputs": [
    {
     "ename": "NameError",
     "evalue": "name 'while_product' is not defined",
     "output_type": "error",
     "traceback": [
      "\u001b[1;31m---------------------------------------------------------------------------\u001b[0m",
      "\u001b[1;31mNameError\u001b[0m                                 Traceback (most recent call last)",
      "Cell \u001b[1;32mIn[2], line 2\u001b[0m\n\u001b[0;32m      1\u001b[0m product \u001b[38;5;241m=\u001b[39m \u001b[38;5;241m1\u001b[39m\n\u001b[1;32m----> 2\u001b[0m while_product \u001b[38;5;241m<\u001b[39m \u001b[38;5;241m100\u001b[39m\n\u001b[0;32m      3\u001b[0m packages \u001b[38;5;241m=\u001b[39m \u001b[38;5;28mint\u001b[39m(\u001b[38;5;28minput\u001b[39m(\u001b[38;5;124m'\u001b[39m\u001b[38;5;124menter number of packages\u001b[39m\u001b[38;5;124m'\u001b[39m))\n\u001b[0;32m      4\u001b[0m product \u001b[38;5;241m=\u001b[39m packages \u001b[38;5;241m*\u001b[39m \u001b[38;5;241m10\u001b[39m\n",
      "\u001b[1;31mNameError\u001b[0m: name 'while_product' is not defined"
     ]
    }
   ],
   "source": [
    "product = 1\n",
    "while_product < 100\n",
    "packages = int(input('enter number of packages'))\n",
    "product = packages * 10\n",
    "print('total in stock', product)"
   ]
  },
  {
   "cell_type": "code",
   "execution_count": 3,
   "id": "1af8fd2f",
   "metadata": {},
   "outputs": [
    {
     "ename": "SyntaxError",
     "evalue": "invalid syntax (1891947081.py, line 2)",
     "output_type": "error",
     "traceback": [
      "\u001b[1;36m  Cell \u001b[1;32mIn[3], line 2\u001b[1;36m\u001b[0m\n\u001b[1;33m    while [product < 100:]\u001b[0m\n\u001b[1;37m                        ^\u001b[0m\n\u001b[1;31mSyntaxError\u001b[0m\u001b[1;31m:\u001b[0m invalid syntax\n"
     ]
    }
   ],
   "source": [
    "product = 1\n",
    "while [product < 100:]\n",
    "packages = int(input('enter number of packages'))\n",
    "product = packages * 10\n",
    "print('total in stock', product)"
   ]
  },
  {
   "cell_type": "code",
   "execution_count": 4,
   "id": "a84aabd9",
   "metadata": {},
   "outputs": [
    {
     "ename": "IndentationError",
     "evalue": "expected an indented block after 'while' statement on line 2 (679473961.py, line 3)",
     "output_type": "error",
     "traceback": [
      "\u001b[1;36m  Cell \u001b[1;32mIn[4], line 3\u001b[1;36m\u001b[0m\n\u001b[1;33m    packages = int(input('enter number of packages'))\u001b[0m\n\u001b[1;37m    ^\u001b[0m\n\u001b[1;31mIndentationError\u001b[0m\u001b[1;31m:\u001b[0m expected an indented block after 'while' statement on line 2\n"
     ]
    }
   ],
   "source": [
    "product = 1\n",
    "while [product < 100] : \n",
    "packages = int(input('enter number of packages'))\n",
    "product = packages * 10\n",
    "print('total in stock', product)"
   ]
  },
  {
   "cell_type": "code",
   "execution_count": 5,
   "id": "3f3a1bf7",
   "metadata": {},
   "outputs": [
    {
     "ename": "SyntaxError",
     "evalue": "invalid syntax (2072995586.py, line 2)",
     "output_type": "error",
     "traceback": [
      "\u001b[1;36m  Cell \u001b[1;32mIn[5], line 2\u001b[1;36m\u001b[0m\n\u001b[1;33m    while [product < 100:]\u001b[0m\n\u001b[1;37m                        ^\u001b[0m\n\u001b[1;31mSyntaxError\u001b[0m\u001b[1;31m:\u001b[0m invalid syntax\n"
     ]
    }
   ],
   "source": [
    "product = 1\n",
    "while [product < 100:]\n",
    "    packages = int(input('enter number of packages'))\n",
    "    product = packages * 10\n",
    "        print('total in stock', product)"
   ]
  },
  {
   "cell_type": "code",
   "execution_count": 6,
   "id": "ee3605b7",
   "metadata": {},
   "outputs": [
    {
     "ename": "IndentationError",
     "evalue": "unexpected indent (1095313741.py, line 5)",
     "output_type": "error",
     "traceback": [
      "\u001b[1;36m  Cell \u001b[1;32mIn[6], line 5\u001b[1;36m\u001b[0m\n\u001b[1;33m    print('total in stock', product)\u001b[0m\n\u001b[1;37m    ^\u001b[0m\n\u001b[1;31mIndentationError\u001b[0m\u001b[1;31m:\u001b[0m unexpected indent\n"
     ]
    }
   ],
   "source": [
    "product = 1\n",
    "while [product < 100] :\n",
    "    packages = int(input('enter number of packages'))\n",
    "    product = packages * 10\n",
    "        print('total in stock', product)"
   ]
  },
  {
   "cell_type": "code",
   "execution_count": null,
   "id": "fdce586a",
   "metadata": {},
   "outputs": [
    {
     "name": "stdout",
     "output_type": "stream",
     "text": [
      "enter number of packages2\n",
      "total in stock 20\n",
      "enter number of packages20\n",
      "total in stock 200\n",
      "enter number of packages10\n",
      "total in stock 100\n",
      "enter number of packages100\n",
      "total in stock 1000\n"
     ]
    }
   ],
   "source": [
    "product = 1\n",
    "while [product < 100] :\n",
    "    packages = int(input('enter number of packages'))\n",
    "    product = packages * 10\n",
    "    print('total in stock', product)"
   ]
  },
  {
   "cell_type": "markdown",
   "id": "7c754aba",
   "metadata": {},
   "source": [
    "## Question 3"
   ]
  },
  {
   "cell_type": "code",
   "execution_count": null,
   "id": "e485eb14",
   "metadata": {},
   "outputs": [],
   "source": [
    "for number in range(0,1001,10): #increments of 10\n",
    "    print(\"number,'', end=\")"
   ]
  },
  {
   "cell_type": "markdown",
   "id": "72b68b84",
   "metadata": {},
   "source": [
    "# Chapter 4 Programming Exercises"
   ]
  },
  {
   "cell_type": "markdown",
   "id": "493d659d",
   "metadata": {},
   "source": [
    "## Question 1"
   ]
  },
  {
   "cell_type": "code",
   "execution_count": null,
   "id": "b9968c0d",
   "metadata": {},
   "outputs": [],
   "source": [
    "NUMBER_OF_DAYS = 5\n",
    "dailycollection = 0\n",
    "total5daycollection = 0\n",
    "message = \"\"\n",
    "\n",
    "for day in range(NUMBER_OF_DAYS)\n",
    "\n",
    "    dailycollection = int(input(\"How many bugs collected on day\" = format(day + 1) + \":\" ))\n",
    "    \n",
    "    while dailycollection < 0 \n",
    "        dailycollection = int(input(\"Error. Enter a positive number: \"))\n",
    "    \n",
    "    total5daycollection += dailycollection\n",
    "    \n",
    "message = \"Total number of bugs collected for 5 days =\" + format(total5daycollection)\n",
    "\n",
    "print(message) "
   ]
  },
  {
   "cell_type": "code",
   "execution_count": null,
   "id": "4e5e3977",
   "metadata": {},
   "outputs": [],
   "source": [
    "NUMBER_OF_DAYS = 5\n",
    "dailycollection = 0\n",
    "total5daycollection = 0\n",
    "message = \"\"\n",
    "\n",
    "for day in range(NUMBER_OF_DAYS)\n",
    "\n",
    "    dailycollection = int(input(\"How many bugs collected on day\" = format(day + 1) + \":\" ))\n",
    "    \n",
    "    while dailycollection < 0 \n",
    "        dailycollection = int(input(\"Error. Enter a positive number: \"))\n",
    "    \n",
    "    total5daycollection += dailycollection\n",
    "    \n",
    "message = \"Total number of bugs collected for 5 days =\" + format(total5daycollection)\n",
    "\n",
    "print(message) "
   ]
  },
  {
   "cell_type": "code",
   "execution_count": null,
   "id": "7a689d7a",
   "metadata": {},
   "outputs": [],
   "source": [
    "NUMBER_OF_DAYS = 5\n",
    "dailycollection = 0\n",
    "total5daycollection = 0\n",
    "message = \"\"\n",
    "\n",
    "for day in range(NUMBER_OF_DAYS)\n",
    "    dailycollection = int(input(\"How many bugs collected on day\" = format(day + 1) + \":\" ))\n",
    "    while dailycollection < 0 \n",
    "        dailycollection = int(input(\"Error. Enter a positive number: \"))\n",
    "    total5daycollection += dailycollection\n",
    "    \n",
    "message = \"Total number of bugs collected for 5 days =\" + format(total5daycollection)\n",
    "\n",
    "print(message) "
   ]
  },
  {
   "cell_type": "code",
   "execution_count": null,
   "id": "90fe55ae",
   "metadata": {},
   "outputs": [],
   "source": [
    "NUMBER_OF_DAYS = 5\n",
    "dailycollection = 0\n",
    "total5daycollection = 0\n",
    "message = \"\"\n",
    "\n",
    "for day in range(NUMBER_OF_DAYS):\n",
    "\n",
    "    dailycollection = int(input(\"How many bugs collected on day\" = format(day + 1) + \":\" ))\n",
    "    \n",
    "    while dailycollection < 0 \n",
    "        dailycollection = int(input(\"Error. Enter a positive number: \"))\n",
    "    \n",
    "    total5daycollection += dailycollection\n",
    "    \n",
    "message = \"Total number of bugs collected for 5 days =\" + format(total5daycollection)\n",
    "\n",
    "print(message) "
   ]
  },
  {
   "cell_type": "code",
   "execution_count": null,
   "id": "2638e1f1",
   "metadata": {},
   "outputs": [],
   "source": [
    "NUMBER_OF_DAYS = 5\n",
    "dailycollection = 0\n",
    "total5daycollection = 0\n",
    "message = \"\"\n",
    "\n",
    "for day in range(NUMBER_OF_DAYS):\n",
    "\n",
    "    dailycollection = int(input(\"How many bugs collected on day\" = format(day + 1) + \":\" ))\n",
    "    \n",
    "    while dailycollection < 0: \n",
    "        dailycollection = int(input(\"Error. Enter a positive number: \"))\n",
    "    \n",
    "    total5daycollection += dailycollection\n",
    "    \n",
    "message = \"Total number of bugs collected for 5 days =\" + format(total5daycollection)\n",
    "\n",
    "print(message) "
   ]
  },
  {
   "cell_type": "code",
   "execution_count": null,
   "id": "1beb8796",
   "metadata": {},
   "outputs": [],
   "source": [
    "NUMBER_OF_DAYS = 5\n",
    "dailycollection = 0\n",
    "total5daycollection = 0\n",
    "message = \"\"\n",
    "\n",
    "for day in range(NUMBER_OF_DAYS):\n",
    "\n",
    "    dailycollection = int(input(\"How many bugs collected on day\" = format(day + 1) + \":\" ))\n",
    "    \n",
    "    while dailycollection < 0: \n",
    "        dailycollection = int(input(\"Error. Enter a positive number: \"))\n",
    "    \n",
    "    total5daycollection += dailycollection\n",
    "    \n",
    "message = \"Total number of bugs collected for 5 days = \" + format(total5daycollection)\n",
    "\n",
    "print(message) "
   ]
  },
  {
   "cell_type": "code",
   "execution_count": null,
   "id": "60b50f14",
   "metadata": {},
   "outputs": [],
   "source": []
  },
  {
   "cell_type": "code",
   "execution_count": null,
   "id": "fc319f71",
   "metadata": {},
   "outputs": [],
   "source": [
    "NUMBER_OF_DAYS = 5\n",
    "dailycollection = 0\n",
    "total5daycollection = 0\n",
    "message = \"\"\n",
    "\n",
    "for day in range(NUMBER_OF_DAYS):\n",
    "\n",
    "    dailycollection = int(input(\"How many bugs collected on day\" = format(day + 1) + \":\" ))\n",
    "    \n",
    "    while dailycollection < 0: \n",
    "        dailycollection = int(input(\"Error. Enter a positive number: \"))\n",
    "    \n",
    "    total5daycollection += dailycollection\n",
    "    \n",
    "message = \"Total number of bugs collected for 5 days = \" + format(total5daycollection);\n",
    "\n",
    "print(message) "
   ]
  },
  {
   "cell_type": "code",
   "execution_count": null,
   "id": "87c39044",
   "metadata": {},
   "outputs": [],
   "source": [
    "NUMBER_0F_DAYS = 5\n",
    "dailyCollection = 0\n",
    "total5DayCollection = 0\n",
    "message = ''\n",
    "\n",
    "for day in range(NUMBER_0F_DAYS):\n",
    "\n",
    "    dailyCollection = int(input(\"How many bugs collected on day \" + format(day + 1) + ': '))\n",
    "\n",
    "    while dailyCollection < 0:\n",
    "        dailyCollection = int(input(\"Error. Enter a positive number: \"))\n",
    "\n",
    "    total5DayCollection += dailyCollection\n",
    "\n",
    "message = 'Total number of bugs collected for 5 days = ' + format(total5DayCollection);\n",
    "\n",
    "print(message)"
   ]
  },
  {
   "cell_type": "code",
   "execution_count": null,
   "id": "bab449be",
   "metadata": {},
   "outputs": [],
   "source": [
    "print('im actually not sure why the code isnt going through)"
   ]
  },
  {
   "cell_type": "code",
   "execution_count": null,
   "id": "8c6bd745",
   "metadata": {},
   "outputs": [],
   "source": [
    "NUMBER_0F_DAYS = 5\n",
    "dailyCollection = 0\n",
    "total5DayCollection = 0\n",
    "message = ''\n",
    "\n",
    "for day in range(NUMBER_0F_DAYS):\n",
    "\n",
    "    dailyCollection = int(input(\"How many bugs collected on day \" + format(day + 1) + ': '))\n",
    "\n",
    "    while dailyCollection < 0:\n",
    "        dailyCollection = int(input(\"Error. Enter a positive number: \"))\n",
    "\n",
    "    total5DayCollection += dailyCollection\n",
    "\n",
    "message = 'Total number of bugs collected for 5 days = ' + format(total5DayCollection);\n",
    "\n",
    "print(message)"
   ]
  },
  {
   "cell_type": "code",
   "execution_count": null,
   "id": "26fa8b27",
   "metadata": {},
   "outputs": [],
   "source": [
    "speed = int(input(\"\\nEnter the speed: \"))\n",
    "while speed < 0:\n",
    "    speed = int(input(\"Error: Enter a positve number: \"))\n",
    "\n",
    "hours = int(input(\"\\nEnter the hours: \"))\n",
    "while hours < 0:\n",
    "    hours = int(input(\"Error: Enter a positve number: \"))\n",
    "\n",
    "distance = 0\n",
    "\n",
    "output = \"\\nHour    Distance Traveled\\n\" \\\n",
    "         \"-------------------------\\n\"\n",
    "\n",
    "for hour in range(hours): #4 - 0, 1, 2, 3\n",
    "    distance = speed * (hour + 1) # 1, 2, 3, 4\n",
    "\n",
    "    output += format(hour + 1) + \"    \" + \\\n",
    "              format(distance) + \"\\n\"\n",
    "\n",
    "print(output)"
   ]
  },
  {
   "cell_type": "code",
   "execution_count": null,
   "id": "c77bccb0",
   "metadata": {},
   "outputs": [],
   "source": [
    "Print('above is question 4, for some reason the code isnt processing so i cant figure out if i tryped it wrong or not')"
   ]
  },
  {
   "cell_type": "markdown",
   "id": "ed99f25f",
   "metadata": {},
   "source": [
    "## Question 12"
   ]
  },
  {
   "cell_type": "code",
   "execution_count": null,
   "id": "df39fba8",
   "metadata": {},
   "outputs": [],
   "source": [
    "user_number = int(input(\"Enter a positive number: \"))\n",
    "\n",
    "while user_number < 0:\n",
    "    user_number = int(input(\"Error: Enter a positive number: \"))\n",
    "\n",
    "total = 0\n",
    "\n",
    "if user_number > 0:\n",
    "    total = 1\n",
    "\n",
    "    for number in range(user_number):\n",
    "        total *= (number + 1)\n",
    "    \n",
    "output = format(total)\n",
    "\n",
    "print(output)"
   ]
  },
  {
   "cell_type": "markdown",
   "id": "345e4094",
   "metadata": {},
   "source": [
    "## Question 15"
   ]
  },
  {
   "cell_type": "code",
   "execution_count": null,
   "id": "74db4b9e",
   "metadata": {},
   "outputs": [],
   "source": [
    "SIZE = 7\n",
    "\n",
    "output = \"\\n\"\n",
    "\n",
    "for row in range(SIZE):\n",
    "    output += \"#\"\n",
    "\n",
    "    for column in range(row):\n",
    "        output += \" \"\n",
    "    \n",
    "    output += \"#\\n\"\n",
    "\n",
    "print(output)"
   ]
  },
  {
   "cell_type": "code",
   "execution_count": null,
   "id": "c7964c65",
   "metadata": {},
   "outputs": [],
   "source": [
    "print('Not too sure why it isnt processing any code for me, I have reloaded the notebook multiple times')"
   ]
  },
  {
   "cell_type": "code",
   "execution_count": null,
   "id": "4cf642fb",
   "metadata": {},
   "outputs": [],
   "source": []
  }
 ],
 "metadata": {
  "kernelspec": {
   "display_name": "Python 3 (ipykernel)",
   "language": "python",
   "name": "python3"
  },
  "language_info": {
   "codemirror_mode": {
    "name": "ipython",
    "version": 3
   },
   "file_extension": ".py",
   "mimetype": "text/x-python",
   "name": "python",
   "nbconvert_exporter": "python",
   "pygments_lexer": "ipython3",
   "version": "3.11.5"
  }
 },
 "nbformat": 4,
 "nbformat_minor": 5
}
